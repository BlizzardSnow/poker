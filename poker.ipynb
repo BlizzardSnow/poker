{
 "cells": [
  {
   "cell_type": "markdown",
   "metadata": {},
   "source": [
    "## This notebooks solves for: https://brilliant.org/problems/get-a-better-hand-2/"
   ]
  },
  {
   "cell_type": "code",
   "execution_count": 1,
   "metadata": {
    "collapsed": true
   },
   "outputs": [],
   "source": [
    "import pandas as pd\n",
    "import numpy as np\n",
    "import math\n",
    "\n",
    "import sys\n",
    "sys.stdout.flush()"
   ]
  },
  {
   "cell_type": "code",
   "execution_count": 2,
   "metadata": {
    "collapsed": false
   },
   "outputs": [],
   "source": [
    "def num_lst(lst):\n",
    "    return all([isinstance(x, (int, float, complex)) for x in lst])\n",
    "\n",
    "def f(n):\n",
    "    return math.factorial(n)\n",
    "\n",
    "def nCr(n, r):\n",
    "    return f(n)/(f(r) * f(n-r))\n",
    "\n",
    "class deck(object):\n",
    "    def __init__(self, ranks, suits, hand = 5, lowest_rank = 'auto', highest_rank = 'auto'):\n",
    "        assert num_lst(ranks), 'ranks must be a list of numerics'\n",
    "        assert isinstance(hand, int), 'hand must be an integer'\n",
    "        \n",
    "        self.ranks = ranks\n",
    "        self.suits = suits\n",
    "        self.hand = hand\n",
    "        \n",
    "        self.num_ranks = len(self.ranks)\n",
    "        self.num_suits = len(self.suits)\n",
    "        \n",
    "        if lowest_rank == 'auto':\n",
    "            self.lowest_rank = min(self.ranks)\n",
    "        else:\n",
    "            self.lowest_rank = lowest_rank\n",
    "            \n",
    "        if highest_rank == 'auto':\n",
    "            self.highest_rank = max(self.ranks)\n",
    "        else:\n",
    "            self.highest_rank = highest_rank\n",
    "            \n",
    "        self.num_cards = self.num_ranks * self.num_suits\n",
    "        \n",
    "        #calculate the number of rank combos for straights:\n",
    "        fro = self.lowest_rank\n",
    "        to = self.highest_rank - self.hand + 1\n",
    "        self.straight_ranks = to - fro + 1       \n",
    "        \n",
    "    def all_hands(self):\n",
    "        return nCr(self.num_cards, self.hand)\n",
    "\n",
    "    def high_card(self):\n",
    "        all_ranks = nCr(self.num_ranks, self.hand)\n",
    "        str_ranks = self.straight_ranks\n",
    "        all_suits = nCr(self.num_suits, 1) ** self.hand\n",
    "        kind_suits = self.num_suits\n",
    "        \n",
    "        #print('[(', self.num_ranks, ' choose ', self.hand, ') - ', str_ranks, ']', \n",
    "        #      '[(', self.num_suits, ' choose ', 1, ') - ', kind_suits, ']')\n",
    "        \n",
    "        return (all_ranks - str_ranks) * (all_suits - kind_suits)\n",
    "    \n",
    "    def one_pair(self):\n",
    "        pair_rank = nCr(self.num_ranks, 1)\n",
    "        pair_suits = nCr(self.num_suits, 2)\n",
    "        \n",
    "        num_cards = self.hand - 2\n",
    "        cards_ranks = nCr(self.num_ranks - 1, num_cards)\n",
    "        cards_suits = nCr(self.num_suits, 1) ** num_cards\n",
    "        \n",
    "        return pair_rank * pair_suits * cards_ranks * cards_suits\n",
    "    \n",
    "    def two_pair(self):\n",
    "        pairs_rank = nCr(self.num_ranks, 2)\n",
    "        pairs_suits = nCr(self.num_suits, 2) ** 2\n",
    "        \n",
    "        num_cards = self.hand - 4\n",
    "        card_rank = nCr(self.num_ranks - 2, num_cards)\n",
    "        card_suit = nCr(self.num_suits, num_cards)\n",
    "        \n",
    "        return pairs_rank * pairs_suits * card_rank * card_suit\n",
    "    \n",
    "    def three_kind(self):\n",
    "        three_rank = nCr(self.num_ranks, 1)\n",
    "        three_suits = nCr(self.num_suits, 1)\n",
    "        \n",
    "        num_cards = self.hand - 3\n",
    "        cards_rank = nCr(self.num_ranks - 1, num_cards)\n",
    "        cards_suits = nCr(self.num_suits, 1) ** num_cards\n",
    "        \n",
    "        return three_rank * three_suits * cards_rank * cards_suits\n",
    "    \n",
    "    def straight(self):\n",
    "        straight_ranks = nCr(self.straight_ranks, 1)\n",
    "        straight_suits = nCr(self.num_suits, 1) ** self.hand\n",
    "        flush_suit = nCr(self.num_suits, 1)\n",
    "        \n",
    "        return straight_ranks * (straight_suits - flush_suit)\n",
    "    \n",
    "    def flush(self):\n",
    "        flush_ranks = nCr(self.num_ranks, self.hand)\n",
    "        straight_ranks = nCr(self.straight_ranks, 1)\n",
    "        \n",
    "        flush_suits = nCr(self.num_suits, 1)\n",
    "        \n",
    "        return flush_suits * (flush_ranks - straight_ranks)\n",
    "    \n",
    "    def full_house(self):\n",
    "        three_rank = nCr(self.num_ranks, 1)\n",
    "        three_suits = nCr(self.num_suits, 3)\n",
    "        \n",
    "        pair_rank = nCr(self.num_ranks - 1, 1)\n",
    "        pair_suits = nCr(self.num_suits, 2)\n",
    "        \n",
    "        return three_rank * three_suits * pair_rank * pair_suits\n",
    "    \n",
    "    def four_kind(self):\n",
    "        four_rank = nCr(self.num_ranks, 1)\n",
    "        four_suits = nCr(self.num_suits, 4)\n",
    "        \n",
    "        num_cards = self.hand - 4\n",
    "        card_rank = nCr(self.num_ranks - 1, 1)\n",
    "        card_suit = nCr(self.num_suits, 1)\n",
    "        \n",
    "        return four_rank * four_suits * card_rank * card_suit\n",
    "    \n",
    "    def straight_flush(self):\n",
    "        straight_ranks = nCr(self.straight_ranks, 1)\n",
    "        straight_suits = nCr(self.num_suits, 1)\n",
    "        \n",
    "        royal_flush = nCr(self.num_suits, 1)\n",
    "        \n",
    "        return straight_ranks * straight_suits - royal_flush\n",
    "    \n",
    "    def royal_flush(self):\n",
    "        return nCr(self.num_suits, 1)\n",
    "        "
   ]
  },
  {
   "cell_type": "code",
   "execution_count": 3,
   "metadata": {
    "collapsed": false
   },
   "outputs": [],
   "source": [
    "your_ranks = [2, 3, 4, 5, 6]\n",
    "your_suits = ['H', 'D', 'S', 'C']\n",
    "\n",
    "friend_ranks = [7, 8, 9, 10, 11, 12, 13, 14] #Ace is 14\n",
    "friend_suits = ['H', 'D', 'S', 'C']"
   ]
  },
  {
   "cell_type": "code",
   "execution_count": 4,
   "metadata": {
    "collapsed": false
   },
   "outputs": [],
   "source": [
    "whole_deck = deck([1, 2, 3, 4, 5, 6, 7, 8, 9, 10, 11, 12, 13], ['H', 'D', 'S', 'C'], highest_rank = 14)"
   ]
  },
  {
   "cell_type": "code",
   "execution_count": 5,
   "metadata": {
    "collapsed": false
   },
   "outputs": [],
   "source": [
    "your_deck = deck([2, 3, 4, 5, 6], ['H', 'D', 'S', 'C'])\n",
    "friend_deck = deck([7, 8, 9, 10, 11, 12, 13, 14], ['H', 'D', 'S', 'C'])"
   ]
  },
  {
   "cell_type": "code",
   "execution_count": 6,
   "metadata": {
    "collapsed": false
   },
   "outputs": [],
   "source": [
    "counts = pd.DataFrame(columns = ['deck', 'high_card', 'one_pair', 'two_pair', 'three_kind', 'straight', \n",
    "                                 'flush', 'full_house', 'four_kind', 'straight_flush', 'royal_flush'], \n",
    "                      index = ['you', 'your_friend'])"
   ]
  },
  {
   "cell_type": "code",
   "execution_count": 7,
   "metadata": {
    "collapsed": false
   },
   "outputs": [
    {
     "data": {
      "text/html": [
       "<div>\n",
       "<table border=\"1\" class=\"dataframe\">\n",
       "  <thead>\n",
       "    <tr style=\"text-align: right;\">\n",
       "      <th></th>\n",
       "      <th>deck</th>\n",
       "      <th>high_card</th>\n",
       "      <th>one_pair</th>\n",
       "      <th>two_pair</th>\n",
       "      <th>three_kind</th>\n",
       "      <th>straight</th>\n",
       "      <th>flush</th>\n",
       "      <th>full_house</th>\n",
       "      <th>four_kind</th>\n",
       "      <th>straight_flush</th>\n",
       "      <th>royal_flush</th>\n",
       "    </tr>\n",
       "  </thead>\n",
       "  <tbody>\n",
       "    <tr>\n",
       "      <th>you</th>\n",
       "      <td>&lt;__main__.deck object at 0x10789a048&gt;</td>\n",
       "      <td>0.0</td>\n",
       "      <td>7680.0</td>\n",
       "      <td>4320.0</td>\n",
       "      <td>1920.0</td>\n",
       "      <td>1020.0</td>\n",
       "      <td>0.0</td>\n",
       "      <td>480.0</td>\n",
       "      <td>80.0</td>\n",
       "      <td>0.0</td>\n",
       "      <td>4.0</td>\n",
       "    </tr>\n",
       "    <tr>\n",
       "      <th>your_friend</th>\n",
       "      <td>&lt;__main__.deck object at 0x10789a080&gt;</td>\n",
       "      <td>53040.0</td>\n",
       "      <td>107520.0</td>\n",
       "      <td>24192.0</td>\n",
       "      <td>10752.0</td>\n",
       "      <td>4080.0</td>\n",
       "      <td>208.0</td>\n",
       "      <td>1344.0</td>\n",
       "      <td>224.0</td>\n",
       "      <td>12.0</td>\n",
       "      <td>4.0</td>\n",
       "    </tr>\n",
       "  </tbody>\n",
       "</table>\n",
       "</div>"
      ],
      "text/plain": [
       "                                              deck  high_card  one_pair  \\\n",
       "you          <__main__.deck object at 0x10789a048>        0.0    7680.0   \n",
       "your_friend  <__main__.deck object at 0x10789a080>    53040.0  107520.0   \n",
       "\n",
       "             two_pair  three_kind  straight  flush  full_house  four_kind  \\\n",
       "you            4320.0      1920.0    1020.0    0.0       480.0       80.0   \n",
       "your_friend   24192.0     10752.0    4080.0  208.0      1344.0      224.0   \n",
       "\n",
       "             straight_flush  royal_flush  \n",
       "you                     0.0          4.0  \n",
       "your_friend            12.0          4.0  "
      ]
     },
     "execution_count": 7,
     "metadata": {},
     "output_type": "execute_result"
    }
   ],
   "source": [
    "counts.deck = [your_deck, friend_deck]\n",
    "counts.high_card = counts.deck.apply(lambda x: x.high_card())\n",
    "counts.one_pair = counts.deck.apply(lambda x: x.one_pair())\n",
    "counts.two_pair = counts.deck.apply(lambda x: x.two_pair())\n",
    "counts.three_kind = counts.deck.apply(lambda x: x.three_kind())\n",
    "counts.straight = counts.deck.apply(lambda x: x.straight())\n",
    "counts.flush = counts.deck.apply(lambda x: x.flush())\n",
    "counts.full_house = counts.deck.apply(lambda x: x.full_house())\n",
    "counts.four_kind = counts.deck.apply(lambda x: x.four_kind())\n",
    "counts.straight_flush = counts.deck.apply(lambda x: x.straight_flush())\n",
    "counts.royal_flush = counts.deck.apply(lambda x: x.royal_flush())\n",
    "\n",
    "counts"
   ]
  },
  {
   "cell_type": "code",
   "execution_count": 8,
   "metadata": {
    "collapsed": false
   },
   "outputs": [
    {
     "data": {
      "text/html": [
       "<div>\n",
       "<table border=\"1\" class=\"dataframe\">\n",
       "  <thead>\n",
       "    <tr style=\"text-align: right;\">\n",
       "      <th></th>\n",
       "      <th>high_card</th>\n",
       "      <th>one_pair</th>\n",
       "      <th>two_pair</th>\n",
       "      <th>three_kind</th>\n",
       "      <th>straight</th>\n",
       "      <th>flush</th>\n",
       "      <th>full_house</th>\n",
       "      <th>four_kind</th>\n",
       "      <th>straight_flush</th>\n",
       "      <th>royal_flush</th>\n",
       "    </tr>\n",
       "  </thead>\n",
       "  <tbody>\n",
       "    <tr>\n",
       "      <th>you</th>\n",
       "      <td>0.000000</td>\n",
       "      <td>0.495356</td>\n",
       "      <td>0.278638</td>\n",
       "      <td>0.123839</td>\n",
       "      <td>0.065789</td>\n",
       "      <td>0.000000</td>\n",
       "      <td>0.030960</td>\n",
       "      <td>0.005160</td>\n",
       "      <td>0.00000</td>\n",
       "      <td>0.000258</td>\n",
       "    </tr>\n",
       "    <tr>\n",
       "      <th>your_friend</th>\n",
       "      <td>0.263388</td>\n",
       "      <td>0.533927</td>\n",
       "      <td>0.120133</td>\n",
       "      <td>0.053393</td>\n",
       "      <td>0.020261</td>\n",
       "      <td>0.001033</td>\n",
       "      <td>0.006674</td>\n",
       "      <td>0.001112</td>\n",
       "      <td>0.00006</td>\n",
       "      <td>0.000020</td>\n",
       "    </tr>\n",
       "  </tbody>\n",
       "</table>\n",
       "</div>"
      ],
      "text/plain": [
       "             high_card  one_pair  two_pair  three_kind  straight     flush  \\\n",
       "you           0.000000  0.495356  0.278638    0.123839  0.065789  0.000000   \n",
       "your_friend   0.263388  0.533927  0.120133    0.053393  0.020261  0.001033   \n",
       "\n",
       "             full_house  four_kind  straight_flush  royal_flush  \n",
       "you            0.030960   0.005160         0.00000     0.000258  \n",
       "your_friend    0.006674   0.001112         0.00006     0.000020  "
      ]
     },
     "execution_count": 8,
     "metadata": {},
     "output_type": "execute_result"
    }
   ],
   "source": [
    "probs = counts.drop('deck', axis = 1)\n",
    "probs.loc['you',] = probs.loc['you',].apply(lambda x: x / your_deck.all_hands())\n",
    "probs.loc['your_friend',] = probs.loc['your_friend',].apply(lambda x: x / friend_deck.all_hands())\n",
    "probs"
   ]
  },
  {
   "cell_type": "code",
   "execution_count": 9,
   "metadata": {
    "collapsed": false
   },
   "outputs": [
    {
     "data": {
      "text/plain": [
       "you            1.0\n",
       "your_friend    1.0\n",
       "dtype: float64"
      ]
     },
     "execution_count": 9,
     "metadata": {},
     "output_type": "execute_result"
    }
   ],
   "source": [
    "probs.sum(axis = 1) #check that probability distributions for you and your friend both add up to 1"
   ]
  },
  {
   "cell_type": "code",
   "execution_count": 10,
   "metadata": {
    "collapsed": false
   },
   "outputs": [
    {
     "data": {
      "text/html": [
       "<div>\n",
       "<table border=\"1\" class=\"dataframe\">\n",
       "  <thead>\n",
       "    <tr style=\"text-align: right;\">\n",
       "      <th></th>\n",
       "      <th>high_card</th>\n",
       "      <th>one_pair</th>\n",
       "      <th>two_pair</th>\n",
       "      <th>three_kind</th>\n",
       "      <th>straight</th>\n",
       "      <th>flush</th>\n",
       "      <th>full_house</th>\n",
       "      <th>four_kind</th>\n",
       "      <th>straight_flush</th>\n",
       "      <th>royal_flush</th>\n",
       "    </tr>\n",
       "  </thead>\n",
       "  <tbody>\n",
       "    <tr>\n",
       "      <th>you</th>\n",
       "      <td>0.000000</td>\n",
       "      <td>0.495356</td>\n",
       "      <td>0.278638</td>\n",
       "      <td>0.123839</td>\n",
       "      <td>0.065789</td>\n",
       "      <td>0.000000</td>\n",
       "      <td>0.030960</td>\n",
       "      <td>0.005160</td>\n",
       "      <td>0.000000</td>\n",
       "      <td>0.000258</td>\n",
       "    </tr>\n",
       "    <tr>\n",
       "      <th>your_friend</th>\n",
       "      <td>0.263388</td>\n",
       "      <td>0.533927</td>\n",
       "      <td>0.120133</td>\n",
       "      <td>0.053393</td>\n",
       "      <td>0.020261</td>\n",
       "      <td>0.001033</td>\n",
       "      <td>0.006674</td>\n",
       "      <td>0.001112</td>\n",
       "      <td>0.000060</td>\n",
       "      <td>0.000020</td>\n",
       "    </tr>\n",
       "    <tr>\n",
       "      <th>friend_lower</th>\n",
       "      <td>0.000000</td>\n",
       "      <td>0.263388</td>\n",
       "      <td>0.797314</td>\n",
       "      <td>0.917448</td>\n",
       "      <td>0.970841</td>\n",
       "      <td>0.991101</td>\n",
       "      <td>0.992134</td>\n",
       "      <td>0.998808</td>\n",
       "      <td>0.999921</td>\n",
       "      <td>0.999980</td>\n",
       "    </tr>\n",
       "  </tbody>\n",
       "</table>\n",
       "</div>"
      ],
      "text/plain": [
       "              high_card  one_pair  two_pair  three_kind  straight     flush  \\\n",
       "you            0.000000  0.495356  0.278638    0.123839  0.065789  0.000000   \n",
       "your_friend    0.263388  0.533927  0.120133    0.053393  0.020261  0.001033   \n",
       "friend_lower   0.000000  0.263388  0.797314    0.917448  0.970841  0.991101   \n",
       "\n",
       "              full_house  four_kind  straight_flush  royal_flush  \n",
       "you             0.030960   0.005160        0.000000     0.000258  \n",
       "your_friend     0.006674   0.001112        0.000060     0.000020  \n",
       "friend_lower    0.992134   0.998808        0.999921     0.999980  "
      ]
     },
     "execution_count": 10,
     "metadata": {},
     "output_type": "execute_result"
    }
   ],
   "source": [
    "your_friend = probs.loc['your_friend',].values\n",
    "friend_agg = np.cumsum(your_friend)\n",
    "\n",
    "#if you and your friend have the same kinds of hand, your friend would always win since he/she has higher cards.\n",
    "#therefore, the probability that you win is equal to the probability that your friend has a lower type of hand then you\n",
    "#let friend_lower represent the probability that your friend gets a lower type of hand, given the hand that you get\n",
    "\n",
    "friend_lower = pd.Series(np.append([0], friend_agg[:-1]), name = 'friend_lower', index = probs.columns)\n",
    "probs = probs.append(friend_lower)\n",
    "probs"
   ]
  },
  {
   "cell_type": "code",
   "execution_count": 11,
   "metadata": {
    "collapsed": false
   },
   "outputs": [
    {
     "data": {
      "text/html": [
       "<div>\n",
       "<table border=\"1\" class=\"dataframe\">\n",
       "  <thead>\n",
       "    <tr style=\"text-align: right;\">\n",
       "      <th></th>\n",
       "      <th>high_card</th>\n",
       "      <th>one_pair</th>\n",
       "      <th>two_pair</th>\n",
       "      <th>three_kind</th>\n",
       "      <th>straight</th>\n",
       "      <th>flush</th>\n",
       "      <th>full_house</th>\n",
       "      <th>four_kind</th>\n",
       "      <th>straight_flush</th>\n",
       "      <th>royal_flush</th>\n",
       "    </tr>\n",
       "  </thead>\n",
       "  <tbody>\n",
       "    <tr>\n",
       "      <th>you</th>\n",
       "      <td>0.000000</td>\n",
       "      <td>0.495356</td>\n",
       "      <td>0.278638</td>\n",
       "      <td>0.123839</td>\n",
       "      <td>0.065789</td>\n",
       "      <td>0.000000</td>\n",
       "      <td>0.030960</td>\n",
       "      <td>0.005160</td>\n",
       "      <td>0.000000</td>\n",
       "      <td>0.000258</td>\n",
       "    </tr>\n",
       "    <tr>\n",
       "      <th>your_friend</th>\n",
       "      <td>0.263388</td>\n",
       "      <td>0.533927</td>\n",
       "      <td>0.120133</td>\n",
       "      <td>0.053393</td>\n",
       "      <td>0.020261</td>\n",
       "      <td>0.001033</td>\n",
       "      <td>0.006674</td>\n",
       "      <td>0.001112</td>\n",
       "      <td>0.000060</td>\n",
       "      <td>0.000020</td>\n",
       "    </tr>\n",
       "    <tr>\n",
       "      <th>friend_lower</th>\n",
       "      <td>0.000000</td>\n",
       "      <td>0.263388</td>\n",
       "      <td>0.797314</td>\n",
       "      <td>0.917448</td>\n",
       "      <td>0.970841</td>\n",
       "      <td>0.991101</td>\n",
       "      <td>0.992134</td>\n",
       "      <td>0.998808</td>\n",
       "      <td>0.999921</td>\n",
       "      <td>0.999980</td>\n",
       "    </tr>\n",
       "    <tr>\n",
       "      <th>you_win</th>\n",
       "      <td>0.000000</td>\n",
       "      <td>0.130471</td>\n",
       "      <td>0.222162</td>\n",
       "      <td>0.113616</td>\n",
       "      <td>0.063871</td>\n",
       "      <td>0.000000</td>\n",
       "      <td>0.030716</td>\n",
       "      <td>0.005154</td>\n",
       "      <td>0.000000</td>\n",
       "      <td>0.000258</td>\n",
       "    </tr>\n",
       "  </tbody>\n",
       "</table>\n",
       "</div>"
      ],
      "text/plain": [
       "              high_card  one_pair  two_pair  three_kind  straight     flush  \\\n",
       "you            0.000000  0.495356  0.278638    0.123839  0.065789  0.000000   \n",
       "your_friend    0.263388  0.533927  0.120133    0.053393  0.020261  0.001033   \n",
       "friend_lower   0.000000  0.263388  0.797314    0.917448  0.970841  0.991101   \n",
       "you_win        0.000000  0.130471  0.222162    0.113616  0.063871  0.000000   \n",
       "\n",
       "              full_house  four_kind  straight_flush  royal_flush  \n",
       "you             0.030960   0.005160        0.000000     0.000258  \n",
       "your_friend     0.006674   0.001112        0.000060     0.000020  \n",
       "friend_lower    0.992134   0.998808        0.999921     0.999980  \n",
       "you_win         0.030716   0.005154        0.000000     0.000258  "
      ]
     },
     "execution_count": 11,
     "metadata": {},
     "output_type": "execute_result"
    }
   ],
   "source": [
    "#let you_win represent that probability that you win, given the hand that you get\n",
    "you_win = pd.Series(np.multiply(probs.loc['you', ], probs.loc['friend_lower', ]), \n",
    "                       name = 'you_win', index = probs.columns)\n",
    "probs = probs.append(you_win)\n",
    "probs"
   ]
  },
  {
   "cell_type": "code",
   "execution_count": 13,
   "metadata": {
    "collapsed": false
   },
   "outputs": [
    {
     "data": {
      "text/plain": [
       "566"
      ]
     },
     "execution_count": 13,
     "metadata": {},
     "output_type": "execute_result"
    }
   ],
   "source": [
    "#p is the probability that you win, over all possible hands\n",
    "p = probs.loc['you_win',].sum()\n",
    "#problem asks for the floor of 1000*p:\n",
    "math.floor(1000*p)"
   ]
  },
  {
   "cell_type": "code",
   "execution_count": null,
   "metadata": {
    "collapsed": true
   },
   "outputs": [],
   "source": []
  }
 ],
 "metadata": {
  "kernelspec": {
   "display_name": "Python 3",
   "language": "python",
   "name": "python3"
  },
  "language_info": {
   "codemirror_mode": {
    "name": "ipython",
    "version": 3
   },
   "file_extension": ".py",
   "mimetype": "text/x-python",
   "name": "python",
   "nbconvert_exporter": "python",
   "pygments_lexer": "ipython3",
   "version": "3.5.1"
  }
 },
 "nbformat": 4,
 "nbformat_minor": 0
}
